{
  "cells": [
    {
      "cell_type": "code",
      "source": [
        "%jars chpg-graph.jar\n",
        "%jars chpg-visualizations.jar\n",
        "%jars chpg-io.jar\n",
        "%jars protobuf-java-3.8.0.jar\n",
        "\n",
        "import chpg.graph.*;\n",
        "import chpg.graph.schema.*;\n",
        "import chpg.visualizations.GraphView;\n",
        "\n",
        "import java.util.List;\n",
        "import java.util.ArrayList;\n",
        "import java.util.Random;\n",
        "import java.io.File;\n",
        "\n",
        "import chpg.io.*;"
      ],
      "outputs": [],
      "execution_count": 1,
      "metadata": {
        "collapsed": false,
        "outputHidden": false,
        "inputHidden": false
      }
    },
    {
      "cell_type": "code",
      "source": [
        "// from Atlas run\n",
        "// var propertyGraph = chpg.atlas.support.GraphConversion.convert(Graph.U)\n",
        "// chpg.io.GraphIO.exportGraph(propertyGraph, new java.io.File(\"MyProject.chpg\"))\n",
        "\n",
        "// import serialized graph to notebook\n",
        "File serializedGraph = new File(\"MyProject.chpg\");\n",
        "Graph graph = GraphIO.importGraph(serializedGraph);\n",
        "\n",
        "//GraphView.setDebug(true);\n",
        "GraphView.show(graph);"
      ],
      "outputs": [
        {
          "output_type": "display_data",
          "data": {
            "text/plain": [
              "<html><iframe src='/var/folders/p3/kkl7xkvj3vqddl60474ym2sc0000gn/T/graph-viewer12238143179588890425/index.html' width=\"100%\", height=\"600px\" frameBorder=\"0\"></iframe></html>"
            ],
            "text/html": [
              "<html><iframe src='/var/folders/p3/kkl7xkvj3vqddl60474ym2sc0000gn/T/graph-viewer12238143179588890425/index.html' width=\"100%\", height=\"600px\" frameBorder=\"0\"></iframe></html>"
            ]
          },
          "metadata": {}
        }
      ],
      "execution_count": 2,
      "metadata": {
        "collapsed": false,
        "outputHidden": false,
        "inputHidden": false
      }
    }
  ],
  "metadata": {
    "kernel_info": {
      "name": "java"
    },
    "language_info": {
      "name": "Java",
      "version": "12.0.1+12",
      "mimetype": "text/x-java-source",
      "file_extension": ".jshell",
      "pygments_lexer": "java",
      "codemirror_mode": "java"
    },
    "kernelspec": {
      "name": "java",
      "language": "java",
      "display_name": "Java"
    },
    "nteract": {
      "version": "0.14.3"
    }
  },
  "nbformat": 4,
  "nbformat_minor": 0
}