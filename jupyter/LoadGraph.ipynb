{
 "cells": [
  {
   "cell_type": "code",
   "execution_count": 3,
   "metadata": {
    "inputHidden": false,
    "outputHidden": false
   },
   "outputs": [],
   "source": [
    "%jars chpg-graph.jar\n",
    "%jars chpg-visualizations-NEW.jar\n",
    "%jars chpg-io.jar\n",
    "%jars protobuf-java-3.8.0.jar\n",
    "\n",
    "import java.util.List;\n",
    "import java.util.ArrayList;\n",
    "import java.util.Random;\n",
    "import java.io.File;\n",
    "import java.nio.file.Path;\n",
    "import java.nio.file.Paths;\n",
    "\n",
    "import chpg.graph.*;\n",
    "import chpg.graph.schema.*;\n",
    "import chpg.visualizations.GraphView;\n",
    "import chpg.visualizations.GraphView.Layout;\n",
    "import chpg.visualizations.GraphView.Menu;\n",
    "import chpg.visualizations.GraphView.Navigator;\n",
    "import chpg.visualizations.GraphView.PanZoom;\n",
    "\n",
    "import chpg.io.*;"
   ]
  },
  {
   "cell_type": "code",
   "execution_count": 4,
   "metadata": {
    "inputHidden": false,
    "outputHidden": false
   },
   "outputs": [
    {
     "name": "stderr",
     "output_type": "stream",
     "text": [
      "java.net.SocketTimeoutException: Accept timed out\n",
      "\tat java.base/java.net.PlainSocketImpl.waitForNewConnection(Native Method)\n",
      "\tat java.base/java.net.PlainSocketImpl.socketAccept(PlainSocketImpl.java:163)\n",
      "\tat java.base/java.net.AbstractPlainSocketImpl.accept(AbstractPlainSocketImpl.java:458)\n",
      "\tat java.base/java.net.ServerSocket.implAccept(ServerSocket.java:556)\n",
      "\tat java.base/java.net.ServerSocket.accept(ServerSocket.java:524)\n",
      "\tat chpg.visualizations.HTMLSocketRunner.run(HTMLSocketRunner.java:39)\n",
      "\tat java.base/java.lang.Thread.run(Thread.java:835)\n",
      "java.net.SocketTimeoutException: Accept timed out\n",
      "\tat java.base/java.net.PlainSocketImpl.waitForNewConnection(Native Method)\n",
      "\tat java.base/java.net.PlainSocketImpl.socketAccept(PlainSocketImpl.java:163)\n",
      "\tat java.base/java.net.AbstractPlainSocketImpl.accept(AbstractPlainSocketImpl.java:458)\n",
      "\tat java.base/java.net.ServerSocket.implAccept(ServerSocket.java:556)\n",
      "\tat java.base/java.net.ServerSocket.accept(ServerSocket.java:524)\n",
      "\tat chpg.visualizations.HTMLSocketRunner.run(HTMLSocketRunner.java:39)\n",
      "\tat java.base/java.lang.Thread.run(Thread.java:835)\n",
      "java.net.SocketTimeoutException: Accept timed out\n",
      "\tat java.base/java.net.PlainSocketImpl.waitForNewConnection(Native Method)\n",
      "\tat java.base/java.net.PlainSocketImpl.socketAccept(PlainSocketImpl.java:163)\n",
      "\tat java.base/java.net.AbstractPlainSocketImpl.accept(AbstractPlainSocketImpl.java:458)\n",
      "\tat java.base/java.net.ServerSocket.implAccept(ServerSocket.java:556)\n",
      "\tat java.base/java.net.ServerSocket.accept(ServerSocket.java:524)\n",
      "\tat chpg.visualizations.HTMLSocketRunner.run(HTMLSocketRunner.java:39)\n",
      "\tat java.base/java.lang.Thread.run(Thread.java:835)\n",
      "java.net.SocketTimeoutException: Accept timed out\n",
      "\tat java.base/java.net.PlainSocketImpl.waitForNewConnection(Native Method)\n",
      "\tat java.base/java.net.PlainSocketImpl.socketAccept(PlainSocketImpl.java:163)\n",
      "\tat java.base/java.net.AbstractPlainSocketImpl.accept(AbstractPlainSocketImpl.java:458)\n",
      "\tat java.base/java.net.ServerSocket.implAccept(ServerSocket.java:556)\n",
      "\tat java.base/java.net.ServerSocket.accept(ServerSocket.java:524)\n",
      "\tat chpg.visualizations.HTMLSocketRunner.run(HTMLSocketRunner.java:39)\n",
      "\tat java.base/java.lang.Thread.run(Thread.java:835)\n",
      "java.net.SocketTimeoutException: Accept timed out\n",
      "\tat java.base/java.net.PlainSocketImpl.waitForNewConnection(Native Method)\n",
      "\tat java.base/java.net.PlainSocketImpl.socketAccept(PlainSocketImpl.java:163)\n",
      "\tat java.base/java.net.AbstractPlainSocketImpl.accept(AbstractPlainSocketImpl.java:458)\n",
      "\tat java.base/java.net.ServerSocket.implAccept(ServerSocket.java:556)\n",
      "\tat java.base/java.net.ServerSocket.accept(ServerSocket.java:524)\n",
      "\tat chpg.visualizations.HTMLSocketRunner.run(HTMLSocketRunner.java:39)\n",
      "\tat java.base/java.lang.Thread.run(Thread.java:835)\n"
     ]
    },
    {
     "data": {
      "text/html": [
       "<html><iframe src='http://localhost:8090/' width=\"100%\", height=\"500px\" frameBorder=\"0\"></iframe></html>"
      ],
      "text/plain": [
       "<html><iframe src='http://localhost:8090/' width=\"100%\", height=\"500px\" frameBorder=\"0\"></iframe></html>"
      ]
     },
     "metadata": {},
     "output_type": "display_data"
    },
    {
     "name": "stderr",
     "output_type": "stream",
     "text": [
      "\n",
      "\tat java.base/java.net.PlainSocketImpl.waitForNewConnection(Native Method)\n",
      "\tat java.base/java.net.PlainSocketImpl.socketAccept(PlainSocketImpl.java:163)\n",
      "\tat java.base/java.net.AbstractPlainSocketImpl.accept(AbstractPlainSocketImpl.java:458)\n",
      "\tat java.base/java.net.ServerSocket.implAccept(ServerSocket.java:556)\n",
      "\tat java.base/java.net.ServerSocket.accept(ServerSocket.java:524)\n",
      "\tat chpg.visualizations.HTMLSocketRunner.run(HTMLSocketRunner.java:39)\n",
      "\tat java.base/java.lang.Thread.run(Thread.java:835)\n",
      "java.net.SocketTimeoutException: Accept timed out"
     ]
    }
   ],
   "source": [
    "// import serialized graph to notebook\n",
    "File serializedGraph = new File(\"C:/Graphs/graph1.chpg\");\n",
    "Graph graph = GraphIO.importGraph(serializedGraph);\n",
    "\n",
    "// Create path to directory where HTML graph will be written\n",
    "Path dirPath = Path.of(\"C:/Graphs/Test3\");\n",
    "\n",
    "// Set up options\n",
    "String name = \"My Test Graph\";\n",
    "int verticalSize = 600;\n",
    "boolean extend = true;\n",
    "//Layout layout = Layout.DAGRE;\n",
    "Layout layout = Layout.KLAY;\n",
    "Menu menu = Menu.TEXT;\n",
    "PanZoom panzoom = PanZoom.ENABLED;\n",
    "Navigator navigator = Navigator.DEFAULT;\n",
    "\n",
    "// Create the HTML and get its path\n",
    "Path pathToHtml = GraphView.createHTML(graph, dirPath, name, verticalSize, extend, layout, menu, panzoom, navigator);\n",
    "\n",
    "// Display the HTML at indexPath\n",
    "GraphView.show(pathToHtml);"
   ]
  },
  {
   "cell_type": "code",
   "execution_count": null,
   "metadata": {},
   "outputs": [],
   "source": []
  },
  {
   "cell_type": "code",
   "execution_count": null,
   "metadata": {},
   "outputs": [],
   "source": []
  }
 ],
 "metadata": {
  "kernel_info": {
   "name": "java"
  },
  "kernelspec": {
   "display_name": "Java",
   "language": "java",
   "name": "java"
  },
  "language_info": {
   "codemirror_mode": "java",
   "file_extension": ".jshell",
   "mimetype": "text/x-java-source",
   "name": "Java",
   "pygments_lexer": "java",
   "version": "12.0.2+10"
  },
  "nteract": {
   "version": "0.14.3"
  }
 },
 "nbformat": 4,
 "nbformat_minor": 1
}
