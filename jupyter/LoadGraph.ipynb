{
 "cells": [
  {
   "cell_type": "code",
   "execution_count": 4,
   "metadata": {
    "inputHidden": false,
    "outputHidden": false
   },
   "outputs": [],
   "source": [
    "%jars chpg-graph.jar\n",
    "%jars chpg-visualizations-NEW.jar\n",
    "%jars chpg-io.jar\n",
    "%jars protobuf-java-3.8.0.jar\n",
    "\n",
    "import chpg.graph.*;\n",
    "import chpg.graph.schema.*;\n",
    "import chpg.visualizations.GraphView;\n",
    "\n",
    "import java.util.List;\n",
    "import java.util.ArrayList;\n",
    "import java.util.Random;\n",
    "import java.io.File;\n",
    "import java.nio.file.Path;\n",
    "import java.nio.file.Paths;\n",
    "\n",
    "import chpg.io.*;"
   ]
  },
  {
   "cell_type": "code",
   "execution_count": 7,
   "metadata": {
    "inputHidden": false,
    "outputHidden": false
   },
   "outputs": [
    {
     "name": "stdout",
     "output_type": "stream",
     "text": [
      "DEBUG: C:\\Graphs\\Test3\n"
     ]
    },
    {
     "data": {
      "text/html": [
       "<html><iframe src='C:\\Graphs\\Test3\\index.html' width=\"100%\", height=\"500px\" frameBorder=\"0\"></iframe></html>"
      ],
      "text/plain": [
       "<html><iframe src='C:\\Graphs\\Test3\\index.html' width=\"100%\", height=\"500px\" frameBorder=\"0\"></iframe></html>"
      ]
     },
     "metadata": {},
     "output_type": "display_data"
    }
   ],
   "source": [
    "// from Atlas run\n",
    "// var propertyGraph = chpg.atlas.support.GraphConversion.convert(Graph.U)\n",
    "// chpg.io.GraphIO.exportGraph(propertyGraph, new java.io.File(\"MyProject.chpg\"))\n",
    "\n",
    "// import serialized graph to notebook\n",
    "File serializedGraph = new File(\"C:/Graphs/graph1.chpg\");\n",
    "Graph graph = GraphIO.importGraph(serializedGraph);\n",
    "\n",
    "// Create path to directory where HTML graph will be written\n",
    "Path dirPath = Path.of(\"C:/Graphs/Test3\");\n",
    "\n",
    "// Create the HTML and store the path to it's index.html file\n",
    "GraphView.setDebug(true);\n",
    "Path indexPath = GraphView.createHTML(graph, dirPath);\n",
    "\n",
    "// Wait\n",
    "//Thread.sleep(5000);\n",
    "\n",
    "// GraphView.show(indexPath);\n",
    "GraphView.show(Paths.get(\"C:/Graphs/Test3/index.html\"));"
   ]
  },
  {
   "cell_type": "code",
   "execution_count": null,
   "metadata": {},
   "outputs": [],
   "source": []
  }
 ],
 "metadata": {
  "kernel_info": {
   "name": "java"
  },
  "kernelspec": {
   "display_name": "Java",
   "language": "java",
   "name": "java"
  },
  "language_info": {
   "codemirror_mode": "java",
   "file_extension": ".jshell",
   "mimetype": "text/x-java-source",
   "name": "Java",
   "pygments_lexer": "java",
   "version": "12.0.2+10"
  },
  "nteract": {
   "version": "0.14.3"
  }
 },
 "nbformat": 4,
 "nbformat_minor": 1
}
