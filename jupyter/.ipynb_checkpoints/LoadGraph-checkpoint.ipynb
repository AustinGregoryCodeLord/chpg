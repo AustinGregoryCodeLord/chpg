{
 "cells": [
  {
   "cell_type": "code",
   "execution_count": 1,
   "metadata": {
    "inputHidden": false,
    "outputHidden": false
   },
   "outputs": [],
   "source": [
    "%jars chpg-graph.jar\n",
    "%jars chpg-visualizations.jar\n",
    "%jars chpg-io.jar\n",
    "%jars protobuf-java-3.8.0.jar\n",
    "\n",
    "import chpg.graph.*;\n",
    "import chpg.graph.schema.*;\n",
    "import chpg.visualizations.GraphView;\n",
    "\n",
    "import java.util.List;\n",
    "import java.util.ArrayList;\n",
    "import java.util.Random;\n",
    "import java.io.File;\n",
    "\n",
    "import chpg.io.*;"
   ]
  },
  {
   "cell_type": "code",
   "execution_count": 2,
   "metadata": {
    "inputHidden": false,
    "outputHidden": false
   },
   "outputs": [
    {
     "data": {
      "text/html": [
       "<html><iframe src='/var/folders/p3/kkl7xkvj3vqddl60474ym2sc0000gn/T/graph-viewer12238143179588890425/index.html' width=\"100%\", height=\"600px\" frameBorder=\"0\"></iframe></html>"
      ],
      "text/plain": [
       "<html><iframe src='/var/folders/p3/kkl7xkvj3vqddl60474ym2sc0000gn/T/graph-viewer12238143179588890425/index.html' width=\"100%\", height=\"600px\" frameBorder=\"0\"></iframe></html>"
      ]
     },
     "metadata": {},
     "output_type": "display_data"
    }
   ],
   "source": [
    "// from Atlas run\n",
    "// var propertyGraph = chpg.atlas.support.GraphConversion.convert(Graph.U)\n",
    "// chpg.io.GraphIO.exportGraph(propertyGraph, new java.io.File(\"MyProject.chpg\"))\n",
    "\n",
    "// import serialized graph to notebook\n",
    "File serializedGraph = new File(\"MyProject.chpg\");\n",
    "Graph graph = GraphIO.importGraph(serializedGraph);\n",
    "\n",
    "//GraphView.setDebug(true);\n",
    "GraphView.show(graph);"
   ]
  }
 ],
 "metadata": {
  "kernel_info": {
   "name": "java"
  },
  "kernelspec": {
   "display_name": "Java",
   "language": "java",
   "name": "java"
  },
  "language_info": {
   "codemirror_mode": "java",
   "file_extension": ".jshell",
   "mimetype": "text/x-java-source",
   "name": "Java",
   "pygments_lexer": "java",
   "version": "12.0.2+10"
  },
  "nteract": {
   "version": "0.14.3"
  }
 },
 "nbformat": 4,
 "nbformat_minor": 1
}
