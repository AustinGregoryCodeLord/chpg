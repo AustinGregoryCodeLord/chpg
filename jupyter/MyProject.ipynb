{
  "cells": [
    {
      "cell_type": "code",
      "source": [
        "%jars chpg-graph.jar\n",
        "%jars chpg-visualizations.jar\n",
        "%jars chpg-io.jar\n",
        "%jars protobuf-java-3.8.0.jar\n",
        "\n",
        "import chpg.graph.*;\n",
        "import chpg.graph.schema.*;\n",
        "import chpg.visualizations.GraphView;\n",
        "\n",
        "import java.util.List;\n",
        "import java.util.ArrayList;\n",
        "import java.util.Random;\n",
        "import java.io.File;\n",
        "\n",
        "import chpg.io.*;\n",
        "import chpg.graph.query.Query;"
      ],
      "outputs": [],
      "execution_count": 1,
      "metadata": {
        "collapsed": false,
        "outputHidden": false,
        "inputHidden": false
      }
    },
    {
      "cell_type": "code",
      "source": [
        "File serializedGraph = new File(\"MyProject.chpg\");\n",
        "PropertyGraph loadedGraph = GraphIO.importGraph(serializedGraph);\n",
        "\n",
        "Query universe = new Query(loadedGraph, loadedGraph);\n",
        "Query containsEdges = universe.edges(\"XCSG.Contains\");\n",
        "Query callEdges = universe.edges(\"XCSG.Call\");\n",
        "Query projectRoot = universe.nodes(\"XCSG.Project\")\n",
        "    .selectNodesByName(\"MyProject\");\n",
        "Query app = containsEdges.forward(projectRoot);\n",
        "Query appMethods = app.nodes(\"XCSG.Method\");\n",
        "Query initializers = appMethods.selectNodesByName(\"<init>\",\"<clinit>\");\n",
        "Query constructors = appMethods.nodes(\"XCSG.Constructor\");\n",
        "\n",
        "GraphView.show(constructors.evaluate());\n",
        "\n",
        "Query cgMethods = appMethods.difference(initializers,constructors); // bug here with 2nd arg\n",
        "Query cg = cgMethods.induce(callEdges);\n",
        "Query result = containsEdges.reverse(cg);\n",
        "\n",
        "GraphView.show(result.evaluate());\n"
      ],
      "outputs": [
        {
          "output_type": "display_data",
          "data": {
            "text/plain": [
              "<html><iframe src='/var/folders/p3/kkl7xkvj3vqddl60474ym2sc0000gn/T/graph-viewer6158263425127553458/index.html' width=\"100%\", height=\"600px\" frameBorder=\"0\"></iframe></html>"
            ],
            "text/html": [
              "<html><iframe src='/var/folders/p3/kkl7xkvj3vqddl60474ym2sc0000gn/T/graph-viewer6158263425127553458/index.html' width=\"100%\", height=\"600px\" frameBorder=\"0\"></iframe></html>"
            ]
          },
          "metadata": {}
        }
      ],
      "execution_count": 6,
      "metadata": {
        "collapsed": false,
        "outputHidden": false,
        "inputHidden": false
      }
    }
  ],
  "metadata": {
    "kernel_info": {
      "name": "java"
    },
    "language_info": {
      "name": "Java",
      "version": "12.0.1+12",
      "mimetype": "text/x-java-source",
      "file_extension": ".jshell",
      "pygments_lexer": "java",
      "codemirror_mode": "java"
    },
    "kernelspec": {
      "name": "java",
      "language": "java",
      "display_name": "Java"
    },
    "nteract": {
      "version": "0.14.3"
    }
  },
  "nbformat": 4,
  "nbformat_minor": 0
}