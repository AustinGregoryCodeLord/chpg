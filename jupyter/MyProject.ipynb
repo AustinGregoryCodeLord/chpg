{
  "cells": [
    {
      "cell_type": "code",
      "source": [
        "%jars chpg-graph.jar\n",
        "%jars chpg-visualizations.jar\n",
        "%jars chpg-io.jar\n",
        "%jars protobuf-java-3.8.0.jar\n",
        "\n",
        "import chpg.graph.*;\n",
        "import chpg.graph.schema.*;\n",
        "import chpg.visualizations.GraphView;\n",
        "\n",
        "import java.util.List;\n",
        "import java.util.ArrayList;\n",
        "import java.util.Random;\n",
        "import java.io.File;\n",
        "\n",
        "import chpg.io.*;\n",
        "import chpg.graph.query.Query;"
      ],
      "outputs": [],
      "execution_count": 1,
      "metadata": {
        "collapsed": false,
        "outputHidden": false,
        "inputHidden": false
      }
    },
    {
      "cell_type": "code",
      "source": [
        "File serializedGraph = new File(\"MyProject.chpg\");\n",
        "Graph graph = GraphIO.importGraph(serializedGraph);\n",
        "\n",
        "Graph containsEdges = graph.toGraph(graph.edges(\"XCSG.Contains\"));\n",
        "Graph callEdges = graph.toGraph(graph.edges(\"XCSG.Call\"));\n",
        "Graph projectRoot = graph.toGraph(graph.nodes(\"XCSG.Project\"));\n",
        "projectRoot = graph.toGraph(projectRoot.selectNodesByName(\"MyProject\"));\n",
        "Graph app = graph.toGraph(containsEdges.forward(projectRoot));\n",
        "\n",
        "Graph appMethods = graph.toGraph(app.nodes(\"XCSG.Method\"));\n",
        "Graph initializers = graph.toGraph(appMethods.selectNodesByName(\"<init>\",\"<clinit>\"));\n",
        "Graph constructors = graph.toGraph(appMethods.nodes(\"XCSG.Constructor\"));\n",
        "\n",
        "Graph cgMethods = appMethods.difference(initializers,constructors);\n",
        "Graph cg = cgMethods.induce(callEdges);\n",
        "Graph result = cg.union(containsEdges.reverse(cg));\n",
        "\n",
        "GraphView.show(result);\n",
        "\n",
        "//Query universe = new Query(graph);\n",
        "//Query callEdges = universe.edges(\"XCSG.Call\");\n",
        "//Query q = universe.nodes(\"XCSG.Method\").induce(callEdges);\n",
        "//GraphView.show(q.evaluate());"
      ],
      "outputs": [
        {
          "output_type": "display_data",
          "data": {
            "text/plain": [
              "<html><iframe src='/var/folders/p3/kkl7xkvj3vqddl60474ym2sc0000gn/T/graph-viewer11336114152624160348/index.html' width=\"100%\", height=\"600px\" frameBorder=\"0\"></iframe></html>"
            ],
            "text/html": [
              "<html><iframe src='/var/folders/p3/kkl7xkvj3vqddl60474ym2sc0000gn/T/graph-viewer11336114152624160348/index.html' width=\"100%\", height=\"600px\" frameBorder=\"0\"></iframe></html>"
            ]
          },
          "metadata": {}
        }
      ],
      "execution_count": 2,
      "metadata": {
        "collapsed": false,
        "outputHidden": false,
        "inputHidden": false
      }
    }
  ],
  "metadata": {
    "kernel_info": {
      "name": "java"
    },
    "language_info": {
      "name": "Java",
      "version": "12.0.1+12",
      "mimetype": "text/x-java-source",
      "file_extension": ".jshell",
      "pygments_lexer": "java",
      "codemirror_mode": "java"
    },
    "kernelspec": {
      "name": "java",
      "language": "java",
      "display_name": "Java"
    },
    "nteract": {
      "version": "0.14.3"
    }
  },
  "nbformat": 4,
  "nbformat_minor": 0
}